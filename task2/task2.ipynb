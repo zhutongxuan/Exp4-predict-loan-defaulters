{
 "cells": [
  {
   "cell_type": "markdown",
   "metadata": {},
   "source": [
    "# 1 读取数据"
   ]
  },
  {
   "cell_type": "code",
   "execution_count": 1,
   "metadata": {},
   "outputs": [],
   "source": [
    "import sys\n",
    "from operator import add\n",
    "\n",
    "from pyspark.sql import SparkSession\n",
    "\n",
    "spark = SparkSession\\\n",
    "    .builder\\\n",
    "    .appName(\"calculateTotalLoanDistribution\")\\\n",
    "    .getOrCreate()\n",
    "\n",
    "# 用filter过滤掉第一行\n",
    "lines = spark.read.text(r'E:\\大三上课程\\金融大数据\\实验\\Experiment4\\train_data.csv').rdd.map(lambda r: r[0]).filter(lambda line: not line.startswith(\"loan_id\"))"
   ]
  },
  {
   "cell_type": "markdown",
   "metadata": {},
   "source": [
    "# 2 分组计数"
   ]
  },
  {
   "cell_type": "code",
   "execution_count": 2,
   "metadata": {},
   "outputs": [],
   "source": [
    "counts = lines.map(lambda x: float(x.split(',')[2])//1000) \\\n",
    "      .map(lambda x: (x, 1)) \\\n",
    "      .reduceByKey(add) \\\n",
    "      .sortBy(lambda x: x[0])"
   ]
  },
  {
   "cell_type": "markdown",
   "metadata": {},
   "source": [
    "# 3 按要求输出"
   ]
  },
  {
   "cell_type": "code",
   "execution_count": 3,
   "metadata": {},
   "outputs": [],
   "source": [
    "output = counts.collect()\n",
    "\n",
    "with open(r\"E:\\大三上课程\\金融大数据\\实验\\Experiment4\\TotalLoanDistribution.txt\", \"w\") as f:\n",
    "    for (i, count) in output:\n",
    "        f.write(\"((%i,%i),%i)\\n\" % (i * 1000, (i + 1) * 1000, count))\n",
    "f.close()\n",
    "spark.stop()"
   ]
  }
 ],
 "metadata": {
  "kernelspec": {
   "display_name": "Python 3",
   "language": "python",
   "name": "python3"
  },
  "language_info": {
   "codemirror_mode": {
    "name": "ipython",
    "version": 3
   },
   "file_extension": ".py",
   "mimetype": "text/x-python",
   "name": "python",
   "nbconvert_exporter": "python",
   "pygments_lexer": "ipython3",
   "version": "3.8.3"
  }
 },
 "nbformat": 4,
 "nbformat_minor": 4
}
