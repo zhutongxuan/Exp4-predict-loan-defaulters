{
 "cells": [
  {
   "cell_type": "markdown",
   "metadata": {},
   "source": [
    "# 1 定义处理函数 import相关包"
   ]
  },
  {
   "cell_type": "code",
   "execution_count": 161,
   "metadata": {},
   "outputs": [],
   "source": [
    "import sys\n",
    "import pandas as pd\n",
    "import numpy as np\n",
    "from sklearn import metrics\n",
    "\n",
    "from itertools import chain\n",
    "\n",
    "import pyspark\n",
    "from pyspark.sql import SparkSession\n",
    "from pyspark.ml.feature import StringIndexer\n",
    "from pyspark.ml import Pipeline\n",
    "from pyspark.ml.feature import VectorAssembler\n",
    "from pyspark.ml.classification import RandomForestClassifier\n",
    "from pyspark.ml.evaluation import BinaryClassificationEvaluator\n",
    "\n",
    "from pyspark.sql import functions as F\n",
    "from pyspark.sql.functions import udf\n",
    "from pyspark.sql.types import IntegerType\n",
    "from pyspark.sql.types import FloatType\n",
    "\n",
    "import matplotlib.pyplot as plt"
   ]
  },
  {
   "cell_type": "code",
   "execution_count": 162,
   "metadata": {},
   "outputs": [],
   "source": [
    "def cal_sub_class(sub_class):\n",
    "    if sub_class[0] == 'A':\n",
    "        return 10 + int(sub_class[1])\n",
    "    elif sub_class[0] == 'B':\n",
    "        return 20 + int(sub_class[1])\n",
    "    elif sub_class[0] == 'C':\n",
    "        return 30 + int(sub_class[1])\n",
    "    elif sub_class[0] == 'D':\n",
    "        return 40 + int(sub_class[1])\n",
    "    elif sub_class[0] == 'E':\n",
    "        return 50 + int(sub_class[1])\n",
    "    elif sub_class[0] == 'F':\n",
    "        return 60 + int(sub_class[1])\n",
    "    else:\n",
    "        return 70 + int(sub_class[1])\n",
    "\n",
    "\n",
    "def cal_work_year(work_year):\n",
    "    if work_year == '-1':\n",
    "        return -1\n",
    "    elif '<' in work_year:\n",
    "        return 0\n",
    "    elif '+' in work_year:\n",
    "        return 11\n",
    "    else:\n",
    "        year = work_year.split(' ')[0]\n",
    "        return int(year)\n",
    "\n",
    "\n",
    "def cal_issue_date(issue_date):\n",
    "    result = (2021 - int(issue_date[:4])) + (12 - int(issue_date[5:7])) / 12\n",
    "    return float(result)\n",
    "\n",
    "\n",
    "def cal_earlies_credit_mon(earlies_credit_mon):\n",
    "    result = 0\n",
    "    if earlies_credit_mon[:3] == 'Jan':\n",
    "        result = (2021 - int(earlies_credit_mon[-4:])) + 1\n",
    "    elif earlies_credit_mon[:3] == 'Feb':\n",
    "        result = (2021 - int(earlies_credit_mon[-4:])) + 11 / 12\n",
    "    elif earlies_credit_mon[:3] == 'Mar':\n",
    "        result = (2021 - int(earlies_credit_mon[-4:])) + 10 / 12\n",
    "    elif earlies_credit_mon[:3] == 'Apr':\n",
    "        result = (2021 - int(earlies_credit_mon[-4:])) + 9 / 12\n",
    "    elif earlies_credit_mon[:3] == 'May':\n",
    "        result = (2021 - int(earlies_credit_mon[-4:])) + 8 / 12\n",
    "    elif earlies_credit_mon[:3] == 'Jun':\n",
    "        result = (2021 - int(earlies_credit_mon[-4:])) + 7 / 12\n",
    "    elif earlies_credit_mon[:3] == 'Jul':\n",
    "        result = (2021 - int(earlies_credit_mon[-4:])) + 6 / 12\n",
    "    elif earlies_credit_mon[:3] == 'Aug':\n",
    "        result = (2021 - int(earlies_credit_mon[-4:])) + 5 / 12\n",
    "    elif earlies_credit_mon[:3] == 'Sep':\n",
    "        result = (2021 - int(earlies_credit_mon[-4:])) + 4 / 12\n",
    "    elif earlies_credit_mon[:3] == 'Oct':\n",
    "        result = (2021 - int(earlies_credit_mon[-4:])) + 3 / 12\n",
    "    elif earlies_credit_mon[:3] == 'Nov':\n",
    "        result = (2021 - int(earlies_credit_mon[-4:])) + 2 / 12\n",
    "    else:\n",
    "        result = (2021 - int(earlies_credit_mon[-4:])) + 1 / 12\n",
    "    return float(result)"
   ]
  },
  {
   "cell_type": "markdown",
   "metadata": {},
   "source": [
    "# 2 数据输入"
   ]
  },
  {
   "cell_type": "code",
   "execution_count": 163,
   "metadata": {},
   "outputs": [],
   "source": [
    "spark = SparkSession.builder.master(\"local[*]\").appName(\"predict\").getOrCreate()"
   ]
  },
  {
   "cell_type": "code",
   "execution_count": 164,
   "metadata": {},
   "outputs": [],
   "source": [
    "df = spark.read.options(header='True', inferSchema='True', delimiter=',').csv(r'E:\\大三上课程\\金融大数据\\实验\\Experiment4\\train_data.csv') #读取数据"
   ]
  },
  {
   "cell_type": "code",
   "execution_count": 165,
   "metadata": {},
   "outputs": [
    {
     "name": "stdout",
     "output_type": "stream",
     "text": [
      "root\n",
      " |-- loan_id: integer (nullable = true)\n",
      " |-- user_id: integer (nullable = true)\n",
      " |-- total_loan: double (nullable = true)\n",
      " |-- year_of_loan: integer (nullable = true)\n",
      " |-- interest: double (nullable = true)\n",
      " |-- monthly_payment: double (nullable = true)\n",
      " |-- class: string (nullable = true)\n",
      " |-- sub_class: string (nullable = true)\n",
      " |-- work_type: string (nullable = true)\n",
      " |-- employer_type: string (nullable = true)\n",
      " |-- industry: string (nullable = true)\n",
      " |-- work_year: string (nullable = true)\n",
      " |-- house_exist: integer (nullable = true)\n",
      " |-- house_loan_status: integer (nullable = true)\n",
      " |-- censor_status: integer (nullable = true)\n",
      " |-- marriage: integer (nullable = true)\n",
      " |-- offsprings: integer (nullable = true)\n",
      " |-- issue_date: string (nullable = true)\n",
      " |-- use: integer (nullable = true)\n",
      " |-- post_code: double (nullable = true)\n",
      " |-- region: integer (nullable = true)\n",
      " |-- debt_loan_ratio: double (nullable = true)\n",
      " |-- del_in_18month: double (nullable = true)\n",
      " |-- scoring_low: double (nullable = true)\n",
      " |-- scoring_high: double (nullable = true)\n",
      " |-- pub_dero_bankrup: double (nullable = true)\n",
      " |-- early_return: integer (nullable = true)\n",
      " |-- early_return_amount: integer (nullable = true)\n",
      " |-- early_return_amount_3mon: double (nullable = true)\n",
      " |-- recircle_b: double (nullable = true)\n",
      " |-- recircle_u: double (nullable = true)\n",
      " |-- initial_list_status: integer (nullable = true)\n",
      " |-- earlies_credit_mon: string (nullable = true)\n",
      " |-- title: double (nullable = true)\n",
      " |-- policy_code: double (nullable = true)\n",
      " |-- f0: double (nullable = true)\n",
      " |-- f1: double (nullable = true)\n",
      " |-- f2: double (nullable = true)\n",
      " |-- f3: double (nullable = true)\n",
      " |-- f4: double (nullable = true)\n",
      " |-- f5: double (nullable = true)\n",
      " |-- is_default: integer (nullable = true)\n",
      "\n"
     ]
    }
   ],
   "source": [
    "df.printSchema()"
   ]
  },
  {
   "cell_type": "markdown",
   "metadata": {},
   "source": [
    "# 3 数据预处理\n",
    "## 3.1 处理缺失值"
   ]
  },
  {
   "cell_type": "code",
   "execution_count": 166,
   "metadata": {},
   "outputs": [],
   "source": [
    "df = df.na.fill(-1)\n",
    "df = df.na.fill('-1')"
   ]
  },
  {
   "cell_type": "markdown",
   "metadata": {},
   "source": [
    "## 3.2 用自定义函数将string类型转数值型特征"
   ]
  },
  {
   "cell_type": "code",
   "execution_count": 167,
   "metadata": {},
   "outputs": [],
   "source": [
    "udf_cal_work_year = udf(cal_work_year, IntegerType())\n",
    "udf_cal_sub_class = udf(cal_sub_class, IntegerType())\n",
    "udf_cal_issue_date = udf(cal_issue_date, FloatType())\n",
    "udf_cal_earlies_credit_mon = udf(cal_earlies_credit_mon, FloatType())\n",
    "# 使用\n",
    "df = df.withColumn('int_work_year', udf_cal_work_year(df.work_year))\n",
    "df = df.withColumn('int_sub_class', udf_cal_sub_class(df.sub_class))\n",
    "df = df.withColumn('float_issue_date', udf_cal_issue_date(df.issue_date))\n",
    "df = df.withColumn('float_earlies_credit_mon', udf_cal_earlies_credit_mon(df.earlies_credit_mon))"
   ]
  },
  {
   "cell_type": "code",
   "execution_count": 168,
   "metadata": {},
   "outputs": [
    {
     "name": "stdout",
     "output_type": "stream",
     "text": [
      "+-------------+-------------+----------------+------------------------+\n",
      "|int_work_year|int_sub_class|float_issue_date|float_earlies_credit_mon|\n",
      "+-------------+-------------+----------------+------------------------+\n",
      "|           -1|           25|             6.5|               37.833332|\n",
      "|           11|           33|       11.166667|                    30.0|\n",
      "|           11|           42|       5.3333335|                   25.25|\n",
      "|            2|           21|        8.583333|                    21.5|\n",
      "|            5|           21|       4.6666665|               21.833334|\n",
      "+-------------+-------------+----------------+------------------------+\n",
      "only showing top 5 rows\n",
      "\n"
     ]
    }
   ],
   "source": [
    "df.select('int_work_year','int_sub_class','float_issue_date','float_earlies_credit_mon').show(5)"
   ]
  },
  {
   "cell_type": "markdown",
   "metadata": {},
   "source": [
    "## 3.3 利用stringindexer转换成数值特征"
   ]
  },
  {
   "cell_type": "code",
   "execution_count": 169,
   "metadata": {},
   "outputs": [],
   "source": [
    "strings = ['work_type', 'employer_type', 'industry']\n",
    "indexes = [StringIndexer(inputCol=s, outputCol=s + \"_index\") for s in strings]\n",
    "pipeline = Pipeline(stages=indexes)\n",
    "model = pipeline.fit(df)\n",
    "df = model.transform(df)  # 对strings里面的列进行transform\n",
    "df = df.drop(*strings)  # 删去strings里面的内容"
   ]
  },
  {
   "cell_type": "code",
   "execution_count": 170,
   "metadata": {},
   "outputs": [
    {
     "name": "stdout",
     "output_type": "stream",
     "text": [
      "+---------------+-------------------+--------------+\n",
      "|work_type_index|employer_type_index|industry_index|\n",
      "+---------------+-------------------+--------------+\n",
      "|            1.0|                0.0|           9.0|\n",
      "|            0.0|                0.0|          11.0|\n",
      "|            2.0|                2.0|           5.0|\n",
      "|            1.0|                0.0|           1.0|\n",
      "|            0.0|                1.0|           0.0|\n",
      "+---------------+-------------------+--------------+\n",
      "only showing top 5 rows\n",
      "\n"
     ]
    }
   ],
   "source": [
    "df.select('work_type_index', 'employer_type_index', 'industry_index').show(5)"
   ]
  },
  {
   "cell_type": "markdown",
   "metadata": {},
   "source": [
    "# 4 生成训练集和测试集\n",
    "## 4.1 去除无关列"
   ]
  },
  {
   "cell_type": "code",
   "execution_count": 171,
   "metadata": {},
   "outputs": [],
   "source": [
    "for col in ['loan_id', 'user_id', 'class', 'sub_class', 'issue_date', 'earlies_credit_mon', 'work_year']:\n",
    "    df = df.drop(col)"
   ]
  },
  {
   "cell_type": "markdown",
   "metadata": {},
   "source": [
    "## 4.2 划分训练集和测试集"
   ]
  },
  {
   "cell_type": "code",
   "execution_count": 172,
   "metadata": {},
   "outputs": [],
   "source": [
    "df_feas = df.drop('is_default')\n",
    "assembler = VectorAssembler(inputCols=df_feas.columns, outputCol=\"features\")\n",
    "data = assembler.transform(df) #许多属性，features，is_default\n",
    "train_set, test_set = data.randomSplit([0.8, 0.2])"
   ]
  },
  {
   "cell_type": "markdown",
   "metadata": {},
   "source": [
    "## 4.3 生成数据权重"
   ]
  },
  {
   "cell_type": "code",
   "execution_count": 173,
   "metadata": {},
   "outputs": [
    {
     "name": "stdout",
     "output_type": "stream",
     "text": [
      "{1: 2.503360748131758, 0: 0.6247903056067853}\n"
     ]
    }
   ],
   "source": [
    "y_collect = train_set.select(\"is_default\").groupBy(\"is_default\").count().collect()\n",
    "unique_y = [x[\"is_default\"] for x in y_collect]\n",
    "total_y = sum([x[\"count\"] for x in y_collect])\n",
    "unique_y_count = len(y_collect)\n",
    "bin_count = [x[\"count\"] for x in y_collect]\n",
    "\n",
    "class_weights_spark = {i: ii for i, ii in zip(unique_y, total_y / (unique_y_count * np.array(bin_count)))}\n",
    "print(class_weights_spark) "
   ]
  },
  {
   "cell_type": "code",
   "execution_count": 174,
   "metadata": {},
   "outputs": [
    {
     "name": "stdout",
     "output_type": "stream",
     "text": [
      "+--------------------+------------------+----------+\n",
      "|            features|            weight|is_default|\n",
      "+--------------------+------------------+----------+\n",
      "|[1000.0,3.0,5.32,...|0.6247903056067853|         0|\n",
      "|[1000.0,3.0,6.99,...|0.6247903056067853|         0|\n",
      "|[1000.0,3.0,7.21,...|0.6247903056067853|         0|\n",
      "|[1000.0,3.0,7.35,...|0.6247903056067853|         0|\n",
      "|[1000.0,3.0,7.35,...|0.6247903056067853|         0|\n",
      "+--------------------+------------------+----------+\n",
      "only showing top 5 rows\n",
      "\n"
     ]
    }
   ],
   "source": [
    "mapping_expr = F.create_map([F.lit(x) for x in chain(*class_weights_spark.items())])\n",
    "train_set = train_set.withColumn(\"weight\", mapping_expr.getItem(F.col(\"is_default\")))\n",
    "\n",
    "train_set.select(['features','weight','is_default']).show(5)"
   ]
  },
  {
   "cell_type": "markdown",
   "metadata": {},
   "source": [
    "# 【准备工作】评价指标函数定义"
   ]
  },
  {
   "cell_type": "code",
   "execution_count": 175,
   "metadata": {},
   "outputs": [],
   "source": [
    "def cal_evaluate(predictions):\n",
    "    '''\n",
    "    自己计算相关指标\n",
    "    '''\n",
    "    tp = predictions[(predictions.is_default == 1) & (predictions.prediction == 1)].count()\n",
    "    tn = predictions[(predictions.is_default == 0) & (predictions.prediction == 0)].count()\n",
    "    fp = predictions[(predictions.is_default == 0) & (predictions.prediction == 1)].count()\n",
    "    fn = predictions[(predictions.is_default == 1) & (predictions.prediction == 0)].count()\n",
    "    try:\n",
    "        p = float(tp)/(tp + fp)\n",
    "    except:\n",
    "        p = 0\n",
    "    try:\n",
    "        r = float(tp)/(tp + fn)\n",
    "    except:\n",
    "        r = 0\n",
    "    try:\n",
    "        f1 = 2*p*r/(p+r)\n",
    "    except:\n",
    "        f1 = 0\n",
    "    acc = predictions[predictions.is_default == predictions.prediction].count()/predictions.count()\n",
    "    auc = BinaryClassificationEvaluator(labelCol='is_default').evaluate(predictions)\n",
    "    return p,r,f1,acc,auc"
   ]
  },
  {
   "cell_type": "markdown",
   "metadata": {},
   "source": [
    "# 5 选用随机森林进行分类预测\n",
    "## 5.1 模型训练与预测"
   ]
  },
  {
   "cell_type": "code",
   "execution_count": 176,
   "metadata": {},
   "outputs": [],
   "source": [
    "model_rf = RandomForestClassifier(labelCol='is_default', maxDepth=7, maxBins=700, numTrees=50, weightCol='weight').fit(train_set)\n",
    "predictions_rf = model_rf.transform(test_set)"
   ]
  },
  {
   "cell_type": "code",
   "execution_count": 177,
   "metadata": {},
   "outputs": [
    {
     "name": "stdout",
     "output_type": "stream",
     "text": [
      "+----------+----------+----------------------------------------+\n",
      "|is_default|prediction|probability                             |\n",
      "+----------+----------+----------------------------------------+\n",
      "|1         |0.0       |[0.6167966658853142,0.3832033341146858] |\n",
      "|0         |0.0       |[0.7571229989542049,0.2428770010457951] |\n",
      "|1         |1.0       |[0.34249927131852664,0.6575007286814732]|\n",
      "|0         |1.0       |[0.49908166526659825,0.5009183347334017]|\n",
      "|0         |0.0       |[0.7666004375831156,0.23339956241688448]|\n",
      "|0         |0.0       |[0.861818939303072,0.13818106069692804] |\n",
      "|0         |0.0       |[0.7513639918350212,0.24863600816497883]|\n",
      "|0         |0.0       |[0.6445826392391486,0.3554173607608515] |\n",
      "|0         |0.0       |[0.6668882331919371,0.3331117668080628] |\n",
      "|0         |0.0       |[0.8144055197916006,0.18559448020839941]|\n",
      "+----------+----------+----------------------------------------+\n",
      "only showing top 10 rows\n",
      "\n"
     ]
    }
   ],
   "source": [
    "predictions_rf.select(['is_default','prediction', 'probability']).show(10,False)"
   ]
  },
  {
   "cell_type": "markdown",
   "metadata": {},
   "source": [
    "## 5.2 打印特征重要性"
   ]
  },
  {
   "cell_type": "code",
   "execution_count": 178,
   "metadata": {},
   "outputs": [
    {
     "data": {
      "text/plain": [
       "<BarContainer object of 38 artists>"
      ]
     },
     "execution_count": 178,
     "metadata": {},
     "output_type": "execute_result"
    },
    {
     "data": {
      "image/png": "[encoded data removed]",
      "text/plain": [
       "<Figure size 288x720 with 1 Axes>"
      ]
     },
     "metadata": {
      "needs_background": "light"
     },
     "output_type": "display_data"
    }
   ],
   "source": [
    "fig = plt.figure(figsize=(4,10))\n",
    "plt.barh(df_feas.columns, model_rf.featureImportances)"
   ]
  },
  {
   "cell_type": "markdown",
   "metadata": {},
   "source": [
    "## 5.3 计算指标"
   ]
  },
  {
   "cell_type": "code",
   "execution_count": 179,
   "metadata": {},
   "outputs": [
    {
     "name": "stdout",
     "output_type": "stream",
     "text": [
      "精确率: 0.4427646765943964\n",
      "召回率: 0.8156424581005587\n",
      "F1分数: 0.5739599835709676\n",
      "准确率: 0.7585622132074217\n",
      "auc: 0.8605717064923736\n"
     ]
    }
   ],
   "source": [
    "p,r,f1,acc,auc = cal_evaluate(predictions_rf)\n",
    "\n",
    "print(\"精确率:\", p)  # 精确率\n",
    "print(\"召回率:\", r)  # 召回率\n",
    "print(\"F1分数:\", f1)  # F1分数\n",
    "print(\"准确率:\", acc)  \n",
    "print(\"auc:\", auc)  "
   ]
  },
  {
   "cell_type": "markdown",
   "metadata": {},
   "source": [
    "# 6 SVM支持向量机\n",
    "## 6.1 模型训练与预测"
   ]
  },
  {
   "cell_type": "code",
   "execution_count": 180,
   "metadata": {},
   "outputs": [],
   "source": [
    "from pyspark.ml.classification import LinearSVC\n",
    "model_svm = LinearSVC(maxIter=100, labelCol='is_default', weightCol='weight').fit(train_set)\n",
    "predictions_svm = model_svm.transform(test_set)"
   ]
  },
  {
   "cell_type": "code",
   "execution_count": 181,
   "metadata": {},
   "outputs": [
    {
     "name": "stdout",
     "output_type": "stream",
     "text": [
      "+----------+----------+\n",
      "|is_default|prediction|\n",
      "+----------+----------+\n",
      "|1         |0.0       |\n",
      "|0         |0.0       |\n",
      "|1         |1.0       |\n",
      "|0         |1.0       |\n",
      "|0         |0.0       |\n",
      "|0         |0.0       |\n",
      "|0         |0.0       |\n",
      "|0         |0.0       |\n",
      "|0         |0.0       |\n",
      "|0         |0.0       |\n",
      "+----------+----------+\n",
      "only showing top 10 rows\n",
      "\n"
     ]
    }
   ],
   "source": [
    "predictions_svm.select(['is_default','prediction']).show(10,False)"
   ]
  },
  {
   "cell_type": "markdown",
   "metadata": {},
   "source": [
    "## 6.2 指标计算"
   ]
  },
  {
   "cell_type": "code",
   "execution_count": 182,
   "metadata": {},
   "outputs": [
    {
     "name": "stdout",
     "output_type": "stream",
     "text": [
      "精确率: 0.40208270579629074\n",
      "召回率: 0.7791211540065038\n",
      "F1分数: 0.530426884650318\n",
      "准确率: 0.7249451353328457\n",
      "auc: 0.8178927237891506\n"
     ]
    }
   ],
   "source": [
    "p,r,f1,acc,auc = cal_evaluate(predictions_svm)\n",
    "\n",
    "print(\"精确率:\", p)  # 精确率\n",
    "print(\"召回率:\", r)  # 召回率\n",
    "print(\"F1分数:\", f1)  # F1分数\n",
    "print(\"准确率:\", acc)  \n",
    "print(\"auc:\", auc) "
   ]
  },
  {
   "cell_type": "markdown",
   "metadata": {},
   "source": [
    "# 7 逻辑回归\n",
    "## 7.1 模型训练与预测"
   ]
  },
  {
   "cell_type": "code",
   "execution_count": 183,
   "metadata": {},
   "outputs": [],
   "source": [
    "from pyspark.ml.classification import LogisticRegression\n",
    "model_lr = LogisticRegression(regParam=0.01, labelCol='is_default', weightCol='weight').fit(train_set)\n",
    "predictions_lr = model_lr.transform(test_set)"
   ]
  },
  {
   "cell_type": "code",
   "execution_count": 184,
   "metadata": {},
   "outputs": [
    {
     "name": "stdout",
     "output_type": "stream",
     "text": [
      "+----------+----------+----------------------------------------+\n",
      "|is_default|prediction|probability                             |\n",
      "+----------+----------+----------------------------------------+\n",
      "|1         |0.0       |[0.8298544021177874,0.1701455978822125] |\n",
      "|0         |0.0       |[0.8032571712274261,0.19674282877257385]|\n",
      "|1         |1.0       |[0.26023130518954074,0.7397686948104593]|\n",
      "|0         |1.0       |[0.4537802912605894,0.5462197087394106] |\n",
      "|0         |0.0       |[0.7563577993246436,0.24364220067535627]|\n",
      "|0         |0.0       |[0.7889071150381572,0.21109288496184272]|\n",
      "|0         |0.0       |[0.6881214888257705,0.3118785111742295] |\n",
      "|0         |0.0       |[0.6553438995039562,0.3446561004960438] |\n",
      "|0         |0.0       |[0.6568593770922325,0.3431406229077674] |\n",
      "|0         |0.0       |[0.8965711222858308,0.1034288777141691] |\n",
      "+----------+----------+----------------------------------------+\n",
      "only showing top 10 rows\n",
      "\n"
     ]
    }
   ],
   "source": [
    "predictions_lr.select(['is_default','prediction', 'probability']).show(10,False)"
   ]
  },
  {
   "cell_type": "markdown",
   "metadata": {},
   "source": [
    "## 7.2 计算指标"
   ]
  },
  {
   "cell_type": "code",
   "execution_count": 185,
   "metadata": {
    "scrolled": true
   },
   "outputs": [
    {
     "name": "stdout",
     "output_type": "stream",
     "text": [
      "精确率: 0.40543161978661496\n",
      "召回率: 0.7667806220295172\n",
      "F1分数: 0.5304109589041096\n",
      "准确率: 0.7292844317350535\n",
      "auc: 0.8153035546650128\n"
     ]
    }
   ],
   "source": [
    "p,r,f1,acc,auc = cal_evaluate(predictions_lr)\n",
    "\n",
    "print(\"精确率:\", p)  # 精确率\n",
    "print(\"召回率:\", r)  # 召回率\n",
    "print(\"F1分数:\", f1)  # F1分数\n",
    "print(\"准确率:\", acc)  \n",
    "print(\"auc:\", auc) "
   ]
  }
 ],
 "metadata": {
  "kernelspec": {
   "display_name": "Python 3",
   "language": "python",
   "name": "python3"
  },
  "language_info": {
   "codemirror_mode": {
    "name": "ipython",
    "version": 3
   },
   "file_extension": ".py",
   "mimetype": "text/x-python",
   "name": "python",
   "nbconvert_exporter": "python",
   "pygments_lexer": "ipython3",
   "version": "3.8.3"
  }
 },
 "nbformat": 4,
 "nbformat_minor": 4
}
