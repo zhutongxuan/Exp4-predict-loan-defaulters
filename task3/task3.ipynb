{
 "cells": [
  {
   "cell_type": "markdown",
   "metadata": {},
   "source": [
    "# 1 读取数据"
   ]
  },
  {
   "cell_type": "code",
   "execution_count": 16,
   "metadata": {},
   "outputs": [],
   "source": [
    "import sys\n",
    "from pyspark.sql import SparkSession\n",
    "from pyspark.sql import functions\n",
    "from pyspark.sql.functions import udf\n",
    "from pyspark.sql.types import IntegerType\n",
    "\n",
    "spark = SparkSession \\\n",
    "    .builder \\\n",
    "    .appName(\"task3\") \\\n",
    "    .getOrCreate()\n",
    "\n",
    "df = spark.read.options(header='True', inferSchema='True', delimiter=',').csv(r'E:\\大三上课程\\金融大数据\\实验\\Experiment4\\train_data.csv')"
   ]
  },
  {
   "cell_type": "markdown",
   "metadata": {},
   "source": [
    "# 2 计算employer_type分布\n",
    "## 2.1 统计总数"
   ]
  },
  {
   "cell_type": "code",
   "execution_count": 17,
   "metadata": {},
   "outputs": [
    {
     "name": "stdout",
     "output_type": "stream",
     "text": [
      "总行数： 300000\n"
     ]
    }
   ],
   "source": [
    "total_num = df.count() # 总行数\n",
    "print('总行数：', total_num)"
   ]
  },
  {
   "cell_type": "markdown",
   "metadata": {},
   "source": [
    "## 2.2 新建一列值设为1，分组求和，除以总数即是占比"
   ]
  },
  {
   "cell_type": "code",
   "execution_count": 18,
   "metadata": {},
   "outputs": [
    {
     "name": "stdout",
     "output_type": "stream",
     "text": [
      "+--------------+--------------------+\n",
      "| employer_type|  employer_type_prop|\n",
      "+--------------+--------------------+\n",
      "|幼教与中小学校| 0.09998333333333333|\n",
      "|      上市企业| 0.10012666666666667|\n",
      "|      政府机构| 0.25815333333333335|\n",
      "|    世界五百强|0.053706666666666666|\n",
      "|  高等教育机构| 0.03368666666666666|\n",
      "|      普通企业|  0.4543433333333333|\n",
      "+--------------+--------------------+\n",
      "\n"
     ]
    }
   ],
   "source": [
    "df = df.withColumn('employer_type_count', functions.lit(1))\n",
    "result1 = df.groupby('employer_type').agg({'employer_type_count': 'sum'})\n",
    "result1 = result1.withColumn('employer_type_prop', result1['sum(employer_type_count)']/total_num).select('employer_type','employer_type_prop')\n",
    "result1.show()"
   ]
  },
  {
   "cell_type": "markdown",
   "metadata": {},
   "source": [
    "## 2.3 输出"
   ]
  },
  {
   "cell_type": "code",
   "execution_count": 19,
   "metadata": {},
   "outputs": [],
   "source": [
    "output1 = result1.collect()\n",
    "with open(r\"E:\\大三上课程\\金融大数据\\实验\\Experiment4\\employerType.csv\", \"w\") as f1:\n",
    "    for (type_name, prop) in output1:\n",
    "        f1.write(\"%s,%f\\n\" % (type_name, prop))\n",
    "f1.close()"
   ]
  },
  {
   "cell_type": "markdown",
   "metadata": {},
   "source": [
    "# 3 计算每个用户应还利息\n",
    "## 3.1 计算"
   ]
  },
  {
   "cell_type": "code",
   "execution_count": 20,
   "metadata": {},
   "outputs": [
    {
     "name": "stdout",
     "output_type": "stream",
     "text": [
      "+-------+------------------+\n",
      "|user_id|       total_money|\n",
      "+-------+------------------+\n",
      "|      0|            3846.0|\n",
      "|      1|1840.6000000000004|\n",
      "|      2|10465.600000000002|\n",
      "|      3|1758.5200000000004|\n",
      "|      4| 1056.880000000001|\n",
      "+-------+------------------+\n",
      "only showing top 5 rows\n",
      "\n"
     ]
    }
   ],
   "source": [
    "result2 = df.withColumn('total_money', df['year_of_loan']*df['monthly_payment']*12-df['total_loan']).select('user_id', 'total_money')\n",
    "result2.show(5)"
   ]
  },
  {
   "cell_type": "markdown",
   "metadata": {},
   "source": [
    "## 3.2 输出"
   ]
  },
  {
   "cell_type": "code",
   "execution_count": 21,
   "metadata": {},
   "outputs": [],
   "source": [
    "output2 = result2.collect()\n",
    "with open(r\"E:\\大三上课程\\金融大数据\\实验\\Experiment4\\userTotalMoney.csv\", \"w\") as f2:\n",
    "    for (user_id, money) in output2:\n",
    "        f2.write(\"%s,%f\\n\" % (user_id, money))\n",
    "f2.close()"
   ]
  },
  {
   "cell_type": "markdown",
   "metadata": {},
   "source": [
    "# 4 筛选工作年限大于5的\n",
    "## 4.1 定义函数对字符串进行转换"
   ]
  },
  {
   "cell_type": "code",
   "execution_count": 22,
   "metadata": {},
   "outputs": [
    {
     "name": "stdout",
     "output_type": "stream",
     "text": [
      "+-------+-------------+-------------+\n",
      "|user_id|censor_status|int_work_year|\n",
      "+-------+-------------+-------------+\n",
      "|      1|            2|           10|\n",
      "|      2|            1|           10|\n",
      "|      5|            2|           10|\n",
      "|      6|            0|            8|\n",
      "|      7|            2|           10|\n",
      "+-------+-------------+-------------+\n",
      "only showing top 5 rows\n",
      "\n"
     ]
    }
   ],
   "source": [
    "def cal_work_year(work_year):\n",
    "    if work_year == None:\n",
    "        return 0\n",
    "    elif '<' in work_year:\n",
    "        return 1\n",
    "    else:\n",
    "        year = work_year.split(' ')[0]\n",
    "        year = year.split('+')[0]\n",
    "        return int(year)\n",
    "\n",
    "\n",
    "# 返回类型为字符串类型\n",
    "udf_cal_work_year = udf(cal_work_year, IntegerType())\n",
    "# 使用\n",
    "result3 = df.withColumn('int_work_year', udf_cal_work_year(df.work_year))\n",
    "\n",
    "result3 = result3.select(result3.user_id, result3.censor_status, result3.int_work_year).filter(\n",
    "    result3.int_work_year > 5)\n",
    "\n",
    "result3.show(5)"
   ]
  },
  {
   "cell_type": "markdown",
   "metadata": {},
   "source": [
    "## 4.2 输出"
   ]
  },
  {
   "cell_type": "code",
   "execution_count": 23,
   "metadata": {},
   "outputs": [],
   "source": [
    "output3 = result3.collect()\n",
    "with open(r\"E:\\大三上课程\\金融大数据\\实验\\Experiment4\\censorStatusCondition.csv\", \"w\") as f3:\n",
    "    for (user_id, censor_status, work_year) in output3:\n",
    "        f3.write(\"%s,%s,%s\\n\" % (user_id, censor_status, work_year))\n",
    "f3.close()\n",
    "spark.stop()"
   ]
  }
 ],
 "metadata": {
  "kernelspec": {
   "display_name": "Python 3",
   "language": "python",
   "name": "python3"
  },
  "language_info": {
   "codemirror_mode": {
    "name": "ipython",
    "version": 3
   },
   "file_extension": ".py",
   "mimetype": "text/x-python",
   "name": "python",
   "nbconvert_exporter": "python",
   "pygments_lexer": "ipython3",
   "version": "3.8.3"
  }
 },
 "nbformat": 4,
 "nbformat_minor": 4
}
